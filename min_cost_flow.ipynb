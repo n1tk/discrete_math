{
 "cells": [
  {
   "cell_type": "code",
   "execution_count": 16,
   "metadata": {
    "collapsed": false
   },
   "outputs": [
    {
     "name": "stdout",
     "output_type": "stream",
     "text": [
      "Optimize a model with 6 rows, 9 columns and 18 nonzeros\n",
      "Coefficient statistics:\n",
      "  Matrix range    [1e+00, 3e+00]\n",
      "  Objective range [1e+00, 4e+00]\n",
      "  Bounds range    [0e+00, 0e+00]\n",
      "  RHS range       [1e+00, 4e+00]\n",
      "Presolve removed 2 rows and 3 columns\n",
      "Presolve time: 0.00s\n",
      "Presolved: 4 rows, 6 columns, 12 nonzeros\n",
      "\n",
      "Iteration    Objective       Primal Inf.    Dual Inf.      Time\n",
      "       0    1.3000000e+01   7.333333e+00   0.000000e+00      0s\n",
      "       2    1.9000000e+01   0.000000e+00   0.000000e+00      0s\n",
      "\n",
      "Solved in 2 iterations and 0.01 seconds\n",
      "Optimal objective  1.900000000e+01\n",
      "x12 0.0\n",
      "x13 0.0\n",
      "x15 1.0\n",
      "x23 3.0\n",
      "x35 3.0\n",
      "x24 0.0\n",
      "x34 0.0\n",
      "x56 4.0\n",
      "x46 0.0\n",
      "{'x46': 0.0, 'x56': 4.0, 'x34': 0.0, 'x35': 3.0, 'x24': 0.0, 'x12': 0.0, 'x13': 0.0, 'x15': 1.0, 'x23': 3.0}\n"
     ]
    }
   ],
   "source": [
    "\n",
    "\n",
    "from gurobipy import *\n",
    "\n",
    "# Model\n",
    "model = Model(\"costflow\")\n",
    "#model.setParam(GRB.param.Method, 0)\n",
    "\n",
    "# Create decision variables\n",
    "x12 = model.addVar(name='x12')\n",
    "x13 = model.addVar(name='x13')\n",
    "x15 = model.addVar(name='x15')\n",
    "x23 = model.addVar(name='x23')\n",
    "x35 = model.addVar(name='x35')\n",
    "x24 = model.addVar(name='x24')\n",
    "x34 = model.addVar(name='x34')\n",
    "x56 = model.addVar(name='x56')\n",
    "x46 = model.addVar(name='x46')\n",
    "\n",
    "# Update model to integrate new variables\n",
    "model.update()\n",
    "\n",
    "#model objective\n",
    "model.setObjective(3 * x12 + 3 * x13 + 3 * x15 + 2 * x23 + 2 * x35 + 4 * x24 + 1 * x34 + 1 * x56 + 3 * x46, GRB.MINIMIZE)\n",
    "# The objective is to maximize (this is redundant now, but it will overwrite Var declaration.solution_value() + 3 * x46.solution_value(), GRB.MINIMIZE)\n",
    "\n",
    "# Add constraints to the model\n",
    "model.addConstr(3*x12 + x13 + x15 ,GRB.EQUAL, 1, \"c1\")\n",
    "model.addConstr(x23 + x24 - x12 ,GRB.EQUAL, 3, \"c2\")\n",
    "model.addConstr(x34 + x35 - x13 - x23 ,GRB.EQUAL, 0,  \"c3\")\n",
    "model.addConstr(x46 - x34 - x24 ,GRB.EQUAL, 0,  \"c4\")\n",
    "model.addConstr(x56 - x15 - x35 ,GRB.EQUAL, 0,  \"c5\")\n",
    "model.addConstr(-x56 - x46 ,GRB.EQUAL, -4,  \"c6\")\n",
    "\n",
    "\n",
    "\n",
    "# Solve\n",
    "model.optimize()\n",
    "data = []\n",
    "variable = []\n",
    "# Let's print the solution\n",
    "for v in model.getVars():\n",
    "    print v.varName, v.x\n",
    "    data.append(v.varName)\n",
    "    variable.append(v.x)\n",
    "    \n",
    "dictionary = dict(zip(data, variable))\n",
    "print dictionary"
   ]
  },
  {
   "cell_type": "code",
   "execution_count": 21,
   "metadata": {
    "collapsed": false
   },
   "outputs": [
    {
     "name": "stdout",
     "output_type": "stream",
     "text": [
      "4.0\n"
     ]
    },
    {
     "data": {
      "text/plain": [
       "19.0"
      ]
     },
     "execution_count": 21,
     "metadata": {},
     "output_type": "execute_result"
    }
   ],
   "source": [
    "#test the dictionary value access \n",
    "print(dictionary[\"x56\"])\n",
    "\n",
    "#calculate minimum cost flow based on LP minimization.\n",
    "cost_flow = 3 * dictionary['x12'] + 3 * dictionary['x13'] + 3 * dictionary['x15'] + 2 * dictionary['x23'] + 2 * dictionary['x35'] + 4 * dictionary['x24'] + 1 * dictionary['x34'] + 1 * dictionary['x56'] + 3 * dictionary['x46']\n",
    "cost_flow"
   ]
  },
  {
   "cell_type": "code",
   "execution_count": 22,
   "metadata": {
    "collapsed": false
   },
   "outputs": [
    {
     "name": "stdout",
     "output_type": "stream",
     "text": [
      "c1 2.0\n",
      "c2 3.0\n",
      "c3 1.0\n",
      "c4 1.0\n",
      "c5 -1.0\n",
      "c6 -2.0\n"
     ]
    }
   ],
   "source": [
    "# Let's print the dual variables as well \n",
    "for c in model.getConstrs():\n",
    "    print c.constrName, c.pi"
   ]
  },
  {
   "cell_type": "code",
   "execution_count": null,
   "metadata": {
    "collapsed": true
   },
   "outputs": [],
   "source": []
  }
 ],
 "metadata": {
  "kernelspec": {
   "display_name": "Python 2",
   "language": "python",
   "name": "python2"
  },
  "language_info": {
   "codemirror_mode": {
    "name": "ipython",
    "version": 2
   },
   "file_extension": ".py",
   "mimetype": "text/x-python",
   "name": "python",
   "nbconvert_exporter": "python",
   "pygments_lexer": "ipython2",
   "version": "2.7.12"
  }
 },
 "nbformat": 4,
 "nbformat_minor": 1
}
